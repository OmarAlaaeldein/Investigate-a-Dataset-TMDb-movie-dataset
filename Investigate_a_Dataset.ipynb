{
 "cells": [
  {
   "cell_type": "markdown",
   "metadata": {},
   "source": [
    "# Project: Investigate a Dataset - [TMDb movie data]\n",
    "\n",
    "## Table of Contents\n",
    "<ul>\n",
    "<li><a href=\"#intro\">Introduction</a></li>\n",
    "<li><a href=\"#wrangling\">Data Wrangling</a></li>\n",
    "<li><a href=\"#eda\">Exploratory Data Analysis</a></li>\n",
    "<li><a href=\"#conclusions\">Conclusions</a></li>\n",
    "</ul>"
   ]
  },
  {
   "cell_type": "markdown",
   "metadata": {},
   "source": [
    "<a id='intro'></a>\n",
    "## Introduction\n",
    "\n",
    "### Dataset Description \n",
    "\n",
    "|Column|Significance|\n",
    "|:----:|:----:| \n",
    "|  imdb_id  | Indicates the ID of the movie according to IMDb  |\n",
    "|  popularity  |  Measure of popularity (Higher is better) |\n",
    "| budget  | How much it costs to produce the movie  |\n",
    "| revenue  | How much the movie revenue from box ofice and Blue-ray  |\n",
    "| original_title  |  Title of the movie |\n",
    "| cast  |  The main actors/actresses in the movie |\n",
    "|  homepage | the webpage corresponding to the movie  |\n",
    "| director  |  director of the movie |\n",
    "| tagline  |  Short description of the movie |\n",
    "| keywords  | Indicates the main narrative themes of the movie  |\n",
    "| overview  | Synopsis of the movie  |\n",
    "| runtime  | duration of the movie in minutes  |\n",
    "| genres  |  genre(s) of the movie |\n",
    "|  production_companies | Credits the production companies  |\n",
    "|  release_date |  When was the movie released (%m/%d/%Y) |\n",
    "|  vote_count | how many users voted for a given movie  |\n",
    "|  vote_average   |  Average of votes  |\n",
    "|   release_year  |   The year when the movie was released  |\n",
    "|   budget_adj     |    Budget adjusted for today's infaltion rate         |\n",
    "|   revenues_adj     |    Revenues adjusted for today's infaltion rate         |\n",
    "--------------\n",
    "### Question(s) for Analysis\n",
    "> Question 1: Is there a correlation between the budget of given movie and the revenues?\n",
    "> \n",
    "> Question 2: Is there a correlation between when is the movie realeased (seasonality) and it's revenue?\n",
    "\n",
    "> Question 3: Do movies with longer runtime have higher popularity?\n",
    "\n",
    "> Question 4: What is the vote average for movies released in each month of the year? and is the vote average normally distubuted ?\n",
    "\n",
    "> Question 5: Which actors cause the movies to have high revenues?\n"
   ]
  },
  {
   "cell_type": "code",
   "execution_count": null,
   "metadata": {},
   "outputs": [],
   "source": [
    "import pandas as pd\n",
    "import matplotlib.pyplot as plt\n",
    "import seaborn as sns\n",
    "import numpy as np\n",
    "%matplotlib inline"
   ]
  },
  {
   "cell_type": "code",
   "execution_count": null,
   "metadata": {},
   "outputs": [],
   "source": [
    "# Upgrade pandas to use dataframe.explode() function. \n",
    "#!pip install --upgrade pandas\n",
    "#!pip install --upgrade seaborn"
   ]
  },
  {
   "cell_type": "markdown",
   "metadata": {},
   "source": [
    "<a id='wrangling'></a>\n",
    "## Data Wrangling\n"
   ]
  },
  {
   "cell_type": "code",
   "execution_count": null,
   "metadata": {},
   "outputs": [],
   "source": [
    "df=pd.read_csv(\"Database_TMDb_movie_data/tmdb-movies.csv\")\n",
    "df.head()"
   ]
  },
  {
   "cell_type": "code",
   "execution_count": null,
   "metadata": {},
   "outputs": [],
   "source": [
    "df.info()"
   ]
  },
  {
   "cell_type": "markdown",
   "metadata": {},
   "source": [
    "\n",
    "### Data Cleaning\n",
    "> First, I will convert the release_date column from object dtype to datetime dtype, and I will drop the release_year column because it is redundant as well as the homepage column, imdb_id column, overview column, and both budget_adj, revenue_adj since inflation will not cause any detoriartion for correlation between our features in our EDA, as well as other columns irrelevent to the EDA.\n",
    " "
   ]
  },
  {
   "cell_type": "code",
   "execution_count": null,
   "metadata": {
    "scrolled": true
   },
   "outputs": [],
   "source": [
    "df.drop(\"release_year\",axis=1,inplace=True)\n",
    "df.drop(\"homepage\",axis=1,inplace=True)\n",
    "df.drop(\"imdb_id\",axis=1,inplace=True)\n",
    "df.drop(\"overview\",axis=1,inplace=True)\n",
    "df.drop(\"budget_adj\",axis=1,inplace=True)\n",
    "df.drop(\"revenue_adj\",axis=1,inplace=True)\n",
    "df.drop(\"production_companies\",axis=1,inplace=True)\n",
    "df.drop(\"tagline\",axis=1,inplace=True)\n",
    "df.drop(\"keywords\",axis=1,inplace=True)\n",
    "df.drop(\"id\",axis=1,inplace=True)"
   ]
  },
  {
   "cell_type": "code",
   "execution_count": null,
   "metadata": {},
   "outputs": [],
   "source": [
    "df[\"release_date\"]=pd.to_datetime(df[\"release_date\"])"
   ]
  },
  {
   "cell_type": "code",
   "execution_count": null,
   "metadata": {},
   "outputs": [],
   "source": [
    "df.head()"
   ]
  },
  {
   "cell_type": "markdown",
   "metadata": {},
   "source": [
    "> Inorder to clean our dataset, there are different dtypes which will of use (numerical, categorical) which requires different methods of cleaning."
   ]
  },
  {
   "cell_type": "code",
   "execution_count": null,
   "metadata": {},
   "outputs": [],
   "source": [
    "num=['budget', 'revenue', 'runtime', 'vote_count','vote_average','popularity']\n",
    "obj=[\"cast\",\"original_title\",\"director\",\"genres\"]"
   ]
  },
  {
   "cell_type": "markdown",
   "metadata": {},
   "source": [
    "> I will impute(fillna) columns with numerical values with the mean of each column."
   ]
  },
  {
   "cell_type": "code",
   "execution_count": null,
   "metadata": {},
   "outputs": [],
   "source": [
    "def impute_by_mean(df,cols: list):\n",
    "    for i in cols:\n",
    "        print(i)\n",
    "        avg=df[i].mean()\n",
    "        df[i].fillna(value=avg,inplace=True)"
   ]
  },
  {
   "cell_type": "code",
   "execution_count": null,
   "metadata": {},
   "outputs": [],
   "source": [
    "print(\"The numerical columns are:\")\n",
    "impute_by_mean(df,num)"
   ]
  },
  {
   "cell_type": "markdown",
   "metadata": {},
   "source": [
    "> I will impute(fillna) columns with categorical value with the mode of each column."
   ]
  },
  {
   "cell_type": "code",
   "execution_count": null,
   "metadata": {},
   "outputs": [],
   "source": [
    "def impute_by_mode(df,cols: list):\n",
    "    for i in cols:\n",
    "        print(i)\n",
    "        mode=df[i].mode()[0] # when there is equal number of occurances of the mode\n",
    "        df[i].fillna(value=mode,inplace=True)"
   ]
  },
  {
   "cell_type": "code",
   "execution_count": null,
   "metadata": {},
   "outputs": [],
   "source": [
    "print(\"The categorical columns are:\")\n",
    "impute_by_mode(df,obj)"
   ]
  },
  {
   "cell_type": "markdown",
   "metadata": {},
   "source": [
    "> After cleaning the numerical columns, make sure there are 0 NaN values in this subset of our dataframe (supposed to be 0)"
   ]
  },
  {
   "cell_type": "code",
   "execution_count": null,
   "metadata": {},
   "outputs": [],
   "source": [
    "df.isnull().sum(axis=0).sum()"
   ]
  },
  {
   "cell_type": "markdown",
   "metadata": {},
   "source": [
    "> Check for any correlation between the cleaned columns."
   ]
  },
  {
   "cell_type": "code",
   "execution_count": null,
   "metadata": {},
   "outputs": [],
   "source": [
    "\n",
    "pd.plotting.scatter_matrix(df[num],figsize=(15,15));"
   ]
  },
  {
   "cell_type": "code",
   "execution_count": null,
   "metadata": {},
   "outputs": [],
   "source": [
    "plt.figure(figsize=(10,10))\n",
    "sns.heatmap(df[num].corr(),annot=True,cmap='rocket');\n"
   ]
  },
  {
   "cell_type": "markdown",
   "metadata": {},
   "source": [
    "<a id='eda'></a>\n",
    "## Exploratory Data Analysis\n"
   ]
  },
  {
   "cell_type": "markdown",
   "metadata": {},
   "source": [
    "### Is there a correlation between the budget of given movie and the revenues?"
   ]
  },
  {
   "cell_type": "code",
   "execution_count": null,
   "metadata": {},
   "outputs": [],
   "source": [
    "plt.figure(figsize=(10,10))\n",
    "\n",
    "sns.regplot(x=df['budget'],y=df['revenue']);\n",
    "plt.xlabel(\"Budget in 100s of millions\")\n",
    "plt.xlabel(\"Revenues in millions\")\n",
    "plt.grid()\n",
    "plt.title(\"Budget vs Revenue\");"
   ]
  },
  {
   "cell_type": "markdown",
   "metadata": {},
   "source": [
    "### From the plot above we can conclude that well funded movies usually have better revenues, since the regression line has positive slope."
   ]
  },
  {
   "cell_type": "markdown",
   "metadata": {},
   "source": [
    "### Is there a correlation between when is the movie realeased (seasonality) and it's revenues, and when is that apparant most?"
   ]
  },
  {
   "cell_type": "code",
   "execution_count": null,
   "metadata": {},
   "outputs": [],
   "source": [
    "df_sorted=df.sort_values(by='release_date')\n",
    "df_sorted[\"release_date\"]=pd.to_datetime(df_sorted[\"release_date\"])\n",
    "df_sorted[\"release_date\"]=df_sorted[\"release_date\"].dt.month\n",
    "ticks=[\"Jan\",\"Feb\",\"Mar\",\"Apr\",\"May\",\"Jun\",\"Jul\",\"Aug\",\"Sep\",\"Oct\",\"Nov\",\"Dec\"]\n",
    "df_sorted.groupby(\"release_date\")[\"revenue\"].mean().plot(kind=\"line\",figsize=(10,10))\n",
    "plt.xticks(np.arange(1,13),ticks)\n",
    "plt.xlabel(\"Release month\");\n",
    "plt.ylabel(\"Mean Earning of movie in 10s of millions\");\n",
    "plt.title(\"Comparison of mean earning of movies released in a given month of the year\")\n",
    "plt.grid()"
   ]
  },
  {
   "cell_type": "markdown",
   "metadata": {},
   "source": [
    "### From the plot above there is significant difference between the revenues across the months of the year."
   ]
  },
  {
   "cell_type": "markdown",
   "metadata": {},
   "source": [
    "### Which months are usually saturated with movies debuts?"
   ]
  },
  {
   "cell_type": "code",
   "execution_count": null,
   "metadata": {},
   "outputs": [],
   "source": [
    "df_sorted.groupby(\"release_date\")[\"release_date\"].count().plot(kind=\"pie\",figsize=(10,10), autopct='%1.0f%%')\n",
    "plt.xlabel(\"Release month\");\n",
    "plt.ylabel(\"Mean Earning of movie in 10s of millions\");\n",
    "plt.title(\"Percentages movies released in a given month of the year\");\n",
    "plt.grid()"
   ]
  },
  {
   "cell_type": "markdown",
   "metadata": {},
   "source": [
    "### Usually the Fall season have the highest concentration of movie releases about $40$% of all releases, so if want to choose if your movies will launch in christmas eve or holidays according to this metric, it's better to release the movies in the spring or the winter."
   ]
  },
  {
   "cell_type": "markdown",
   "metadata": {},
   "source": [
    "### What is the vote average for movies released in each month of the year? and is the vote average normally distubuted ?"
   ]
  },
  {
   "cell_type": "code",
   "execution_count": null,
   "metadata": {},
   "outputs": [],
   "source": [
    "plt.figure(figsize=(10,10))\n",
    "df_sorted.groupby(\"release_date\")[\"vote_average\"].mean().plot(kind=\"line\");\n",
    "plt.xlabel(\"Release month\")\n",
    "plt.ylabel(\"Average vote\")\n",
    "plt.xticks(np.arange(1,13),ticks)\n",
    "plt.title(\"Vote average for movies released in each month of the year\")\n",
    "plt.grid()"
   ]
  },
  {
   "cell_type": "markdown",
   "metadata": {},
   "source": [
    "### There is a difference in the average vote between months but it is not significant enough to have a clear conclusion to whether releasing a movie in specific month will cause it to have better ratings."
   ]
  },
  {
   "cell_type": "code",
   "execution_count": null,
   "metadata": {},
   "outputs": [],
   "source": [
    "plt.figure(figsize=(10,10))\n",
    "df_sorted[\"vote_average\"].plot(kind=\"kde\");\n",
    "plt.xlabel(\"Average vote\");\n",
    "plt.title(\"The PDF of the average vote column\")\n",
    "plt.grid()"
   ]
  },
  {
   "cell_type": "markdown",
   "metadata": {},
   "source": [
    "### Usually movies in TMDb have a rating between $4-8$."
   ]
  },
  {
   "cell_type": "markdown",
   "metadata": {},
   "source": [
    "### What is the percentage of movies which have average vote between $4-8$?"
   ]
  },
  {
   "cell_type": "code",
   "execution_count": null,
   "metadata": {},
   "outputs": [],
   "source": [
    "common=df_sorted[(df_sorted[\"vote_average\"]>4)&(df_sorted[\"vote_average\"]<8)]\n",
    "print(\"{}%\".format(round(len(common)/len(df_sorted),2)*100))"
   ]
  },
  {
   "cell_type": "markdown",
   "metadata": {},
   "source": [
    "### This actually confirms that the stdev for average vote is $1$ and the mean is $6$, the chances for having a movie with hgiher than $8$ rating is only $2$%. "
   ]
  },
  {
   "cell_type": "markdown",
   "metadata": {},
   "source": [
    "### Does having known actors usually means that the movies will have high revenues?"
   ]
  },
  {
   "cell_type": "code",
   "execution_count": null,
   "metadata": {},
   "outputs": [],
   "source": [
    "df[\"cast\"]=df[\"cast\"].str.split(\"|\")\n",
    "df=df.explode(\"cast\")"
   ]
  },
  {
   "cell_type": "code",
   "execution_count": null,
   "metadata": {},
   "outputs": [],
   "source": [
    "actors_stats=df.groupby(\"cast\")[\"revenue\"].sum().sort_values(ascending=False)\n",
    "actors_stats.loc[actors_stats.index[1:20]].plot(kind=\"barh\",figsize=(10,10));\n",
    "plt.xlabel(\"Revenues in billions\")\n",
    "plt.ylabel(\"Cast\")\n",
    "plt.title(\"Total movie revenues of the top 20 actors/actresses\");"
   ]
  },
  {
   "cell_type": "markdown",
   "metadata": {},
   "source": [
    "### From the plot above we can conclude that having known actors/actresses in your movie will usually mean it will be succesful, the first 20 actors/actresses are very renowned."
   ]
  },
  {
   "cell_type": "markdown",
   "metadata": {},
   "source": [
    "<a id='conclusions'></a>\n",
    "## Conclusions\n",
    "Question 1:\n",
    ">We can conclude the movies with higher budgets, usually only few production ccompanies can provide such budgets are more likely to be successful.\n",
    "\n",
    "Question 2:\n",
    "> The movies released in holidays season (May-July) and Christmas Eve usualy have higher revenues than the movies which are not, but movies released in Christmas Eve also tend to have better ratings but the difference is insignificant, so if you want to maximise the chances of having high revenues, releasing the movies during the holidays and christmas eve is a sound choice.\n",
    "\n",
    "Question 3:\n",
    "> Percentage of movies released is consistent across months of the year, but releasing movies in some season such as spring is prefrerrable if you want to avoid competition, but the tradeoff is that your movie might not gross as much as it will in the holidays and christmas eve.\n",
    "\n",
    "Question 4:\n",
    "> The normal distrubution applies to the Vote average column, most of the movies have between $4-8$ rating, only a rare subset of the movies will score above $8$.\n",
    "\n",
    "Question 5:\n",
    "> Having known actors in a movie usually means that the movie will have high revenues.\n",
    "\n",
    "### Limitations\n",
    "\n",
    "1-\n",
    "> Outliers in the vote average column may occur with movies where the vote_count is extermely low, so for example if we have a movie where only one person gave it 10/10 or a 0/10, then it is not a clear represnative of the movie rating, so we might need to ignore movies that have few votes, or even select movies to comapare according to it's popularity. \n",
    "\n",
    "2-\n",
    "> A compreshensive comparsion between each director is a bit diffucult since there almost 6000 directors in this dataset.\n",
    "\n",
    "3-\n",
    "> Some movies have a budget of 0$ which makes it not convenient when creating a ratio column which is the revenue/budget values for each movie, so the solution might be removing those movies.\n"
   ]
  },
  {
   "cell_type": "code",
   "execution_count": null,
   "metadata": {},
   "outputs": [],
   "source": [
    "from subprocess import call\n",
    "call(['python', '-m', 'nbconvert', 'Investigate_a_Dataset.ipynb'])"
   ]
  }
 ],
 "metadata": {
  "interpreter": {
   "hash": "83edcf9d6691da80da87185edf1e2ec27aa1177a09f7d029aea1a0cb99dd36f7"
  },
  "kernelspec": {
   "display_name": "Python 3.8.8 64-bit ('base': conda)",
   "name": "python3"
  },
  "language_info": {
   "codemirror_mode": {
    "name": "ipython",
    "version": 3
   },
   "file_extension": ".py",
   "mimetype": "text/x-python",
   "name": "python",
   "nbconvert_exporter": "python",
   "pygments_lexer": "ipython3",
   "version": "3.8.8"
  }
 },
 "nbformat": 4,
 "nbformat_minor": 2
}
