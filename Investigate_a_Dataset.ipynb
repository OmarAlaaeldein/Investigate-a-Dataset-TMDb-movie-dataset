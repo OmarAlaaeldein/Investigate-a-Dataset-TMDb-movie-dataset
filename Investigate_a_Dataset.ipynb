{
 "cells": [
  {
   "cell_type": "markdown",
   "metadata": {},
   "source": [
    "# Project: Investigate a Dataset - [TMDb movie data]\n",
    "\n",
    "## Table of Contents\n",
    "<ul>\n",
    "<li><a href=\"#intro\">Introduction</a></li>\n",
    "<li><a href=\"#wrangling\">Data Wrangling</a></li>\n",
    "<li><a href=\"#eda\">Exploratory Data Analysis</a></li>\n",
    "<li><a href=\"#conclusions\">Conclusions</a></li>\n",
    "</ul>"
   ]
  },
  {
   "cell_type": "markdown",
   "metadata": {},
   "source": [
    "<a id='intro'></a>\n",
    "## Introduction\n",
    "\n",
    "### Dataset Description \n",
    "\n",
    "|Column|Significance|\n",
    "|:----:|:----:| \n",
    "|  imdb_id  | Indicates the ID of the movie according to IMDb  |\n",
    "|  popularity  |  Measure of popularity (Higher is better) |\n",
    "| budget  | How much it costs to produce the movie  |\n",
    "| revenue  | How much the movie revenue from box ofice and Blue-ray  |\n",
    "| original_title  |  Title of the movie |\n",
    "| cast  |  The main actors/actresses in the movie |\n",
    "|  homepage | the webpage corresponding to the movie  |\n",
    "| director  |  director of the movie |\n",
    "| tagline  |  Short description of the movie |\n",
    "| keywords  | Indicates the main narrative themes of the movie  |\n",
    "| overview  | Synopsis of the movie  |\n",
    "| runtime  | duration of the movie in minutes  |\n",
    "| genres  |  genre(s) of the movie |\n",
    "|  production_companies | Credits the production companies  |\n",
    "|  release_date |  When was the movie released (%m/%d/%Y) |\n",
    "|  vote_count | how many users voted for a given movie  |\n",
    "|  vote_average   |  Average of votes  |\n",
    "|   release_year  |   The year when the movie was released  |\n",
    "\n",
    "### Question(s) for Analysis\n",
    ">**Tip**: Clearly state one or more questions that you plan on exploring over the course of the report. You will address these questions in the **data analysis** and **conclusion** sections. Try to build your report around the analysis of at least one dependent variable and three independent variables. If you're not sure what questions to ask, then make sure you familiarize yourself with the dataset, its variables and the dataset context for ideas of what to explore.\n",
    "\n",
    "> Question 1: Is there a correlation between when is the movie realeased (seasonality) and it's revenue?\n",
    "\n",
    "> Question 2: Do movies with longer runtime have higher popularity?\n",
    "\n",
    "> **Tip**: Once you start coding, use NumPy arrays, Pandas Series, and DataFrames where appropriate rather than Python lists and dictionaries. Also, **use good coding practices**, such as, define and use functions to avoid repetitive code. Use appropriate comments within the code cells, explanation in the mark-down cells, and meaningful variable names. "
   ]
  },
  {
   "cell_type": "code",
   "execution_count": null,
   "metadata": {},
   "outputs": [],
   "source": [
    "import pandas as pd\n",
    "import matplotlib.pyplot as plt\n",
    "import seaborn as sns\n",
    "import numpy as np\n",
    "%matplotlib inline"
   ]
  },
  {
   "cell_type": "code",
   "execution_count": null,
   "metadata": {},
   "outputs": [],
   "source": [
    "# Upgrade pandas to use dataframe.explode() function. \n",
    "#!pip install --upgrade pandas\n",
    "#!pip install --upgrade seaborn"
   ]
  },
  {
   "cell_type": "markdown",
   "metadata": {},
   "source": [
    "<a id='wrangling'></a>\n",
    "## Data Wrangling\n",
    "\n",
    "> **Tip**: In this section of the report, you will load in the data, check for cleanliness, and then trim and clean your dataset for analysis. Make sure that you **document your data cleaning steps in mark-down cells precisely and justify your cleaning decisions.**\n",
    "\n",
    "\n",
    "### General Properties\n",
    "> **Tip**: You should _not_ perform too many operations in each cell. Create cells freely to explore your data. One option that you can take with this project is to do a lot of explorations in an initial notebook. These don't have to be organized, but make sure you use enough comments to understand the purpose of each code cell. Then, after you're done with your analysis, create a duplicate notebook where you will trim the excess and organize your steps so that you have a flowing, cohesive report."
   ]
  },
  {
   "cell_type": "code",
   "execution_count": null,
   "metadata": {},
   "outputs": [],
   "source": [
    "df=pd.read_csv(\"Database_TMDb_movie_data/tmdb-movies.csv\")"
   ]
  },
  {
   "cell_type": "code",
   "execution_count": null,
   "metadata": {},
   "outputs": [],
   "source": [
    "df.info()"
   ]
  },
  {
   "cell_type": "markdown",
   "metadata": {},
   "source": [
    "\n",
    "### Data Cleaning\n",
    "> First, I will convert the release_date column from object dtype to datetime dtype, and I will drop the release_year column because it is redundant as well as the homepage column, imdb_id column, overview column, and both budget_adj, revenue_adj since inflation will not cause any detoriartion for correlation between our features in our EDA, as well as other columns irrelevent to the EDA.\n",
    " "
   ]
  },
  {
   "cell_type": "code",
   "execution_count": null,
   "metadata": {
    "scrolled": true
   },
   "outputs": [],
   "source": [
    "df.drop(\"release_year\",axis=1,inplace=True)\n",
    "df.drop(\"homepage\",axis=1,inplace=True)\n",
    "df.drop(\"imdb_id\",axis=1,inplace=True)\n",
    "df.drop(\"overview\",axis=1,inplace=True)\n",
    "df.drop(\"budget_adj\",axis=1,inplace=True)\n",
    "df.drop(\"revenue_adj\",axis=1,inplace=True)\n",
    "df.drop(\"cast\",axis=1,inplace=True)\n",
    "df.drop(\"production_companies\",axis=1,inplace=True)\n",
    "df.drop(\"tagline\",axis=1,inplace=True)\n",
    "df.drop(\"keywords\",axis=1,inplace=True)\n",
    "df.drop(\"id\",axis=1,inplace=True)"
   ]
  },
  {
   "cell_type": "code",
   "execution_count": null,
   "metadata": {},
   "outputs": [],
   "source": [
    "df[\"release_date\"]=pd.to_datetime(df[\"release_date\"])"
   ]
  },
  {
   "cell_type": "code",
   "execution_count": null,
   "metadata": {},
   "outputs": [],
   "source": [
    "df.head()"
   ]
  },
  {
   "cell_type": "code",
   "execution_count": null,
   "metadata": {},
   "outputs": [],
   "source": []
  },
  {
   "cell_type": "markdown",
   "metadata": {},
   "source": [
    "> Inorder to clean our dataset, there are different dtypes which will of use (numerical, categorical) which requires different methods of cleaning."
   ]
  },
  {
   "cell_type": "code",
   "execution_count": null,
   "metadata": {},
   "outputs": [],
   "source": [
    "num=['budget', 'revenue', 'runtime', 'vote_count','vote_average','popularity']\n",
    "obj=[\"original_title\",\"director\",\"genres\"]\n"
   ]
  },
  {
   "cell_type": "markdown",
   "metadata": {},
   "source": [
    "> I will impute(fillna) columns with numerical values with the mean of each column."
   ]
  },
  {
   "cell_type": "code",
   "execution_count": null,
   "metadata": {},
   "outputs": [],
   "source": [
    "def impute_by_mean(df,cols: list):\n",
    "    for i in cols:\n",
    "        print(i)\n",
    "        avg=df[i].mean()\n",
    "        df[i].fillna(value=avg,inplace=True)"
   ]
  },
  {
   "cell_type": "code",
   "execution_count": null,
   "metadata": {},
   "outputs": [],
   "source": [
    "impute_by_mean(df,num)"
   ]
  },
  {
   "cell_type": "markdown",
   "metadata": {},
   "source": [
    "> I will impute(fillna) columns with categorical value with the mode of each column."
   ]
  },
  {
   "cell_type": "code",
   "execution_count": null,
   "metadata": {},
   "outputs": [],
   "source": [
    "def impute_by_mode(df,cols: list):\n",
    "    for i in cols:\n",
    "        print(i)\n",
    "        mode=df[i].mode()[0] # when there is equal number of occurances of the mode\n",
    "        print(mode)\n",
    "        df[i].fillna(value=mode,inplace=True)"
   ]
  },
  {
   "cell_type": "code",
   "execution_count": null,
   "metadata": {},
   "outputs": [],
   "source": [
    "impute_by_mode(df,obj)"
   ]
  },
  {
   "cell_type": "markdown",
   "metadata": {},
   "source": [
    "> After cleaning the numerical columns, make sure there are 0 NaN values in this subset of our dataframe (supposed to be 0)"
   ]
  },
  {
   "cell_type": "code",
   "execution_count": null,
   "metadata": {},
   "outputs": [],
   "source": [
    "df.isnull().sum(axis=0)"
   ]
  },
  {
   "cell_type": "markdown",
   "metadata": {},
   "source": [
    "> Check for any correlation between the cleaned columns."
   ]
  },
  {
   "cell_type": "code",
   "execution_count": null,
   "metadata": {},
   "outputs": [],
   "source": [
    "\n",
    "pd.plotting.scatter_matrix(df[num],figsize=(15,15));"
   ]
  },
  {
   "cell_type": "code",
   "execution_count": null,
   "metadata": {},
   "outputs": [],
   "source": [
    "sns.heatmap(df[num].corr(),annot=True,cmap='rocket');"
   ]
  },
  {
   "cell_type": "markdown",
   "metadata": {},
   "source": [
    "<a id='eda'></a>\n",
    "## Exploratory Data Analysis\n",
    "\n",
    "> **Tip**: Now that you've trimmed and cleaned your data, you're ready to move on to exploration. **Compute statistics** and **create visualizations** with the goal of addressing the research questions that you posed in the Introduction section. You should compute the relevant statistics throughout the analysis when an inference is made about the data. Note that at least two or more kinds of plots should be created as part of the exploration, and you must  compare and show trends in the varied visualizations. \n",
    "\n",
    "\n",
    "\n",
    "> **Tip**: - Investigate the stated question(s) from multiple angles. It is recommended that you be systematic with your approach. Look at one variable at a time, and then follow it up by looking at relationships between variables. You should explore at least three variables in relation to the primary question. This can be an exploratory relationship between three variables of interest, or looking at how two independent variables relate to a single dependent variable of interest. Lastly, you  should perform both single-variable (1d) and multiple-variable (2d) explorations.\n",
    "\n",
    "\n",
    "### Do movies with longer runtime have higher popularity ?"
   ]
  },
  {
   "cell_type": "markdown",
   "metadata": {},
   "source": [
    "### Is there a correlation between the budget of given movie and the revenues"
   ]
  },
  {
   "cell_type": "code",
   "execution_count": null,
   "metadata": {},
   "outputs": [],
   "source": [
    "plt.figure(figsize=(10,10))\n",
    "plt.xlabel(\"Budget in 100s of millions\")\n",
    "plt.xlabel(\"Revenues in billions\")\n",
    "plt.grid()\n",
    "plt.title(\"Budget vs revenue\")\n",
    "sns.regplot(x=df['budget'],y=df['revenue'])"
   ]
  },
  {
   "cell_type": "markdown",
   "metadata": {},
   "source": [
    "### Is there a correlation between when is the movie realeased (seasonality) and it and the revenue?"
   ]
  },
  {
   "cell_type": "code",
   "execution_count": null,
   "metadata": {},
   "outputs": [],
   "source": [
    "df_sorted=df.sort_values(by='release_date')\n",
    "df_sorted[\"release_date\"]=pd.to_datetime(df_sorted[\"release_date\"])\n",
    "df_sorted[\"release_date\"]=df_sorted[\"release_date\"].dt.month\n",
    "ticks=[\"Jan\",\"Feb\",\"Mar\",\"Apr\",\"May\",\"Jun\",\"Jul\",\"Aug\",\"Sep\",\"Oct\",\"Nov\",\"Dec\"]\n",
    "df_sorted.groupby(\"release_date\")[\"revenue\"].mean().plot(kind=\"line\",figsize=(10,10))\n",
    "plt.xticks(np.arange(1,13),ticks)\n",
    "plt.xlabel(\"Release Month\");\n",
    "plt.ylabel(\"Mean Earning of movie in 10s of Millions\");\n",
    "plt.title(\"Comparison of mean earning of movies released in a given month of the year\")\n",
    "plt.grid()\n",
    "#sns.lineplot(x='release_date'.month,y='revenue',data=df_sorted)"
   ]
  },
  {
   "cell_type": "code",
   "execution_count": null,
   "metadata": {},
   "outputs": [],
   "source": [
    "df_sorted.groupby(\"release_date\")[\"release_date\"].count().plot(kind=\"pie\",figsize=(10,10), autopct='%1.0f%%')\n",
    "plt.xlabel(\"Release Month\");\n",
    "plt.ylabel(\"Mean Earning of movie in 10s of Millions\");\n",
    "plt.title(\"Percentages movies released in a given month of the year\")\n",
    "plt.grid()"
   ]
  },
  {
   "cell_type": "markdown",
   "metadata": {},
   "source": [
    "### What is the vote average for movies released in each month of the year? and is the vote average normally distubuted ?"
   ]
  },
  {
   "cell_type": "code",
   "execution_count": null,
   "metadata": {},
   "outputs": [],
   "source": [
    "df_sorted.groupby(\"release_date\")[\"vote_average\"].mean().plot(kind=\"line\");\n",
    "plt.xlabel(\"Release month\")\n",
    "plt.ylabel(\"Average vote\")\n",
    "plt.xticks(np.arange(1,13),ticks)\n",
    "plt.title(\"vote average for movies released in each month of the year\")\n",
    "plt.grid()"
   ]
  },
  {
   "cell_type": "code",
   "execution_count": null,
   "metadata": {},
   "outputs": [],
   "source": [
    "df_sorted.groupby(\"release_date\")[\"vote_average\"].mean().plot(kind=\"kde\");\n",
    "plt.xlabel(\"Average vote\");\n",
    "plt.title(\"The PDF of the Average vote column\")\n",
    "plt.grid()"
   ]
  },
  {
   "cell_type": "markdown",
   "metadata": {},
   "source": [
    "<a id='conclusions'></a>\n",
    "## Conclusions\n",
    "\n",
    "> We can conclude the movies with higher budgets, usually only few production ccompanies can provide such budgets are more likely to be successful.\n",
    " \n",
    "> The movies released in summer (May-July) and Christmas Eve usualy have higher revenues than the movies which are not, but movies released in Christmas Eve also tend to have better ratings.\n",
    "\n",
    "> Percentage of movies released is consistent across months of the year.\n",
    "\n",
    "> The normal distrubution applies to the Vote average column.\n",
    "\n",
    "\n",
    "### Limitations\n",
    "> **Tip**: Make sure that you are clear with regards to the limitations of your exploration. You should have at least 1 limitation explained clearly. \n",
    "> Outliers in the vote average column may occur with movies where the vote_count is extermely low, so for example if we have a movie where only one person gave it 10/10 or a 0/10, then it is not a clear represnative of the movie rating, so we might need to ignore movies that have few votes, or even select movies to comapare according to it's popularity. \n",
    "\n"
   ]
  },
  {
   "cell_type": "code",
   "execution_count": null,
   "metadata": {},
   "outputs": [],
   "source": [
    "from subprocess import call\n",
    "call(['python', '-m', 'nbconvert', 'Investigate_a_Dataset.ipynb'])"
   ]
  }
 ],
 "metadata": {
  "interpreter": {
   "hash": "83edcf9d6691da80da87185edf1e2ec27aa1177a09f7d029aea1a0cb99dd36f7"
  },
  "kernelspec": {
   "display_name": "Python 3.8.8 64-bit ('base': conda)",
   "name": "python3"
  },
  "language_info": {
   "codemirror_mode": {
    "name": "ipython",
    "version": 3
   },
   "file_extension": ".py",
   "mimetype": "text/x-python",
   "name": "python",
   "nbconvert_exporter": "python",
   "pygments_lexer": "ipython3",
   "version": "3.8.8"
  }
 },
 "nbformat": 4,
 "nbformat_minor": 2
}
